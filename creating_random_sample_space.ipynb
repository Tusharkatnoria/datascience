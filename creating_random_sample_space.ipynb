{
 "cells": [
  {
   "cell_type": "code",
   "execution_count": 6,
   "id": "91354d56",
   "metadata": {},
   "outputs": [],
   "source": [
    "import pandas as pd\n",
    "import numpy as np\n",
    "\n",
    "df = pd.read_csv(\"laptop_price.csv\" , encoding='latin-1')"
   ]
  },
  {
   "cell_type": "code",
   "execution_count": 7,
   "id": "59c70575",
   "metadata": {},
   "outputs": [
    {
     "data": {
      "text/html": [
       "<div>\n",
       "<style scoped>\n",
       "    .dataframe tbody tr th:only-of-type {\n",
       "        vertical-align: middle;\n",
       "    }\n",
       "\n",
       "    .dataframe tbody tr th {\n",
       "        vertical-align: top;\n",
       "    }\n",
       "\n",
       "    .dataframe thead th {\n",
       "        text-align: right;\n",
       "    }\n",
       "</style>\n",
       "<table border=\"1\" class=\"dataframe\">\n",
       "  <thead>\n",
       "    <tr style=\"text-align: right;\">\n",
       "      <th></th>\n",
       "      <th>laptop_ID</th>\n",
       "      <th>Company</th>\n",
       "      <th>Product</th>\n",
       "      <th>TypeName</th>\n",
       "      <th>Inches</th>\n",
       "      <th>ScreenResolution</th>\n",
       "      <th>Cpu</th>\n",
       "      <th>Ram</th>\n",
       "      <th>Memory</th>\n",
       "      <th>Gpu</th>\n",
       "      <th>OpSys</th>\n",
       "      <th>Weight</th>\n",
       "      <th>Price_euros</th>\n",
       "    </tr>\n",
       "  </thead>\n",
       "  <tbody>\n",
       "    <tr>\n",
       "      <th>0</th>\n",
       "      <td>1</td>\n",
       "      <td>Apple</td>\n",
       "      <td>MacBook Pro</td>\n",
       "      <td>Ultrabook</td>\n",
       "      <td>13.3</td>\n",
       "      <td>IPS Panel Retina Display 2560x1600</td>\n",
       "      <td>Intel Core i5 2.3GHz</td>\n",
       "      <td>8GB</td>\n",
       "      <td>128GB SSD</td>\n",
       "      <td>Intel Iris Plus Graphics 640</td>\n",
       "      <td>macOS</td>\n",
       "      <td>1.37kg</td>\n",
       "      <td>1339.69</td>\n",
       "    </tr>\n",
       "    <tr>\n",
       "      <th>1</th>\n",
       "      <td>2</td>\n",
       "      <td>Apple</td>\n",
       "      <td>Macbook Air</td>\n",
       "      <td>Ultrabook</td>\n",
       "      <td>13.3</td>\n",
       "      <td>1440x900</td>\n",
       "      <td>Intel Core i5 1.8GHz</td>\n",
       "      <td>8GB</td>\n",
       "      <td>128GB Flash Storage</td>\n",
       "      <td>Intel HD Graphics 6000</td>\n",
       "      <td>macOS</td>\n",
       "      <td>1.34kg</td>\n",
       "      <td>898.94</td>\n",
       "    </tr>\n",
       "    <tr>\n",
       "      <th>2</th>\n",
       "      <td>3</td>\n",
       "      <td>HP</td>\n",
       "      <td>250 G6</td>\n",
       "      <td>Notebook</td>\n",
       "      <td>15.6</td>\n",
       "      <td>Full HD 1920x1080</td>\n",
       "      <td>Intel Core i5 7200U 2.5GHz</td>\n",
       "      <td>8GB</td>\n",
       "      <td>256GB SSD</td>\n",
       "      <td>Intel HD Graphics 620</td>\n",
       "      <td>No OS</td>\n",
       "      <td>1.86kg</td>\n",
       "      <td>575.00</td>\n",
       "    </tr>\n",
       "  </tbody>\n",
       "</table>\n",
       "</div>"
      ],
      "text/plain": [
       "   laptop_ID Company      Product   TypeName  Inches  \\\n",
       "0          1   Apple  MacBook Pro  Ultrabook    13.3   \n",
       "1          2   Apple  Macbook Air  Ultrabook    13.3   \n",
       "2          3      HP       250 G6   Notebook    15.6   \n",
       "\n",
       "                     ScreenResolution                         Cpu  Ram  \\\n",
       "0  IPS Panel Retina Display 2560x1600        Intel Core i5 2.3GHz  8GB   \n",
       "1                            1440x900        Intel Core i5 1.8GHz  8GB   \n",
       "2                   Full HD 1920x1080  Intel Core i5 7200U 2.5GHz  8GB   \n",
       "\n",
       "                Memory                           Gpu  OpSys  Weight  \\\n",
       "0            128GB SSD  Intel Iris Plus Graphics 640  macOS  1.37kg   \n",
       "1  128GB Flash Storage        Intel HD Graphics 6000  macOS  1.34kg   \n",
       "2            256GB SSD         Intel HD Graphics 620  No OS  1.86kg   \n",
       "\n",
       "   Price_euros  \n",
       "0      1339.69  \n",
       "1       898.94  \n",
       "2       575.00  "
      ]
     },
     "execution_count": 7,
     "metadata": {},
     "output_type": "execute_result"
    }
   ],
   "source": [
    "df.head(3)"
   ]
  },
  {
   "cell_type": "code",
   "execution_count": null,
   "id": "87861b8a",
   "metadata": {},
   "outputs": [
    {
     "data": {
      "text/plain": [
       "0       Intel Iris Plus Graphics 640\n",
       "1             Intel HD Graphics 6000\n",
       "2              Intel HD Graphics 620\n",
       "3                 AMD Radeon Pro 455\n",
       "4       Intel Iris Plus Graphics 650\n",
       "                    ...             \n",
       "1298           Intel HD Graphics 520\n",
       "1299           Intel HD Graphics 520\n",
       "1300               Intel HD Graphics\n",
       "1301              AMD Radeon R5 M330\n",
       "1302               Intel HD Graphics\n",
       "Name: Gpu, Length: 1303, dtype: object"
      ]
     },
     "execution_count": 8,
     "metadata": {},
     "output_type": "execute_result"
    }
   ],
   "source": [
    "# create the random sample space around the gpu\n",
    "df['Gpu']  #normal"
   ]
  },
  {
   "cell_type": "code",
   "execution_count": null,
   "id": "d088b537",
   "metadata": {},
   "outputs": [
    {
     "data": {
      "text/plain": [
       "248      Intel UHD Graphics 620\n",
       "556           Intel HD Graphics\n",
       "693       Intel HD Graphics 620\n",
       "387          AMD FirePro W5130M\n",
       "781     Nvidia GeForce GTX 1070\n",
       "379     Nvidia GeForce GTX 1050\n",
       "716       Intel HD Graphics 620\n",
       "880       Intel HD Graphics 620\n",
       "654       Intel HD Graphics 520\n",
       "994       Intel HD Graphics 620\n",
       "825       Intel HD Graphics 510\n",
       "743       Intel HD Graphics 620\n",
       "1243       Nvidia GeForce 940MX\n",
       "335       Intel HD Graphics 620\n",
       "708       Intel HD Graphics 520\n",
       "235          AMD Radeon R7 M445\n",
       "332       Intel HD Graphics 620\n",
       "1139      Intel HD Graphics 520\n",
       "739       Intel HD Graphics 520\n",
       "573       Intel HD Graphics 620\n",
       "Name: Gpu, dtype: object"
      ]
     },
     "execution_count": 38,
     "metadata": {},
     "output_type": "execute_result"
    }
   ],
   "source": [
    "df['Gpu'].sample(20)   # andom sample space of size 20df['Gpu'].sample(20,random_state=2)"
   ]
  },
  {
   "cell_type": "code",
   "execution_count": 40,
   "id": "cd66291e",
   "metadata": {},
   "outputs": [
    {
     "data": {
      "text/plain": [
       "248      Intel UHD Graphics 620\n",
       "556           Intel HD Graphics\n",
       "693       Intel HD Graphics 620\n",
       "387          AMD FirePro W5130M\n",
       "781     Nvidia GeForce GTX 1070\n",
       "379     Nvidia GeForce GTX 1050\n",
       "716       Intel HD Graphics 620\n",
       "880       Intel HD Graphics 620\n",
       "654       Intel HD Graphics 520\n",
       "994       Intel HD Graphics 620\n",
       "825       Intel HD Graphics 510\n",
       "743       Intel HD Graphics 620\n",
       "1243       Nvidia GeForce 940MX\n",
       "335       Intel HD Graphics 620\n",
       "708       Intel HD Graphics 520\n",
       "235          AMD Radeon R7 M445\n",
       "332       Intel HD Graphics 620\n",
       "1139      Intel HD Graphics 520\n",
       "739       Intel HD Graphics 520\n",
       "573       Intel HD Graphics 620\n",
       "Name: Gpu, dtype: object"
      ]
     },
     "execution_count": 40,
     "metadata": {},
     "output_type": "execute_result"
    }
   ],
   "source": [
    "df['Gpu'].sample(20,random_state=2)   # it fixes the same state even after a debug"
   ]
  },
  {
   "cell_type": "code",
   "execution_count": 52,
   "id": "d81c4be7",
   "metadata": {},
   "outputs": [
    {
     "name": "stdout",
     "output_type": "stream",
     "text": [
      "<class 'pandas.core.frame.DataFrame'>\n",
      "Index: 261 entries, 353 to 18\n",
      "Data columns (total 13 columns):\n",
      " #   Column            Non-Null Count  Dtype  \n",
      "---  ------            --------------  -----  \n",
      " 0   laptop_ID         261 non-null    int64  \n",
      " 1   Company           261 non-null    object \n",
      " 2   Product           261 non-null    object \n",
      " 3   TypeName          261 non-null    object \n",
      " 4   Inches            261 non-null    float64\n",
      " 5   ScreenResolution  261 non-null    object \n",
      " 6   Cpu               261 non-null    object \n",
      " 7   Ram               261 non-null    object \n",
      " 8   Memory            261 non-null    object \n",
      " 9   Gpu               261 non-null    object \n",
      " 10  OpSys             261 non-null    object \n",
      " 11  Weight            261 non-null    object \n",
      " 12  Price_euros       261 non-null    float64\n",
      "dtypes: float64(2), int64(1), object(10)\n",
      "memory usage: 28.5+ KB\n"
     ]
    }
   ],
   "source": [
    "# creating the sample space of the faction or the percentagE\n",
    "df.sample(frac=.2).info()"
   ]
  },
  {
   "cell_type": "code",
   "execution_count": 45,
   "id": "96cc7463",
   "metadata": {},
   "outputs": [
    {
     "name": "stdout",
     "output_type": "stream",
     "text": [
      "<class 'pandas.core.frame.DataFrame'>\n",
      "RangeIndex: 1303 entries, 0 to 1302\n",
      "Data columns (total 13 columns):\n",
      " #   Column            Non-Null Count  Dtype  \n",
      "---  ------            --------------  -----  \n",
      " 0   laptop_ID         1303 non-null   int64  \n",
      " 1   Company           1303 non-null   object \n",
      " 2   Product           1303 non-null   object \n",
      " 3   TypeName          1303 non-null   object \n",
      " 4   Inches            1303 non-null   float64\n",
      " 5   ScreenResolution  1303 non-null   object \n",
      " 6   Cpu               1303 non-null   object \n",
      " 7   Ram               1303 non-null   object \n",
      " 8   Memory            1303 non-null   object \n",
      " 9   Gpu               1303 non-null   object \n",
      " 10  OpSys             1303 non-null   object \n",
      " 11  Weight            1303 non-null   object \n",
      " 12  Price_euros       1303 non-null   float64\n",
      "dtypes: float64(2), int64(1), object(10)\n",
      "memory usage: 132.5+ KB\n"
     ]
    }
   ],
   "source": [
    "df.info()   #RangeIndex: 1303 entries, 0 to 1302............261 rows × 13 columns  is random sample"
   ]
  },
  {
   "cell_type": "code",
   "execution_count": 48,
   "id": "241b1fc2",
   "metadata": {},
   "outputs": [
    {
     "name": "stdout",
     "output_type": "stream",
     "text": [
      "<class 'pandas.core.frame.DataFrame'>\n",
      "Index: 2606 entries, 845 to 854\n",
      "Data columns (total 13 columns):\n",
      " #   Column            Non-Null Count  Dtype  \n",
      "---  ------            --------------  -----  \n",
      " 0   laptop_ID         2606 non-null   int64  \n",
      " 1   Company           2606 non-null   object \n",
      " 2   Product           2606 non-null   object \n",
      " 3   TypeName          2606 non-null   object \n",
      " 4   Inches            2606 non-null   float64\n",
      " 5   ScreenResolution  2606 non-null   object \n",
      " 6   Cpu               2606 non-null   object \n",
      " 7   Ram               2606 non-null   object \n",
      " 8   Memory            2606 non-null   object \n",
      " 9   Gpu               2606 non-null   object \n",
      " 10  OpSys             2606 non-null   object \n",
      " 11  Weight            2606 non-null   object \n",
      " 12  Price_euros       2606 non-null   float64\n",
      "dtypes: float64(2), int64(1), object(10)\n",
      "memory usage: 285.0+ KB\n"
     ]
    }
   ],
   "source": [
    "df.sample(frac=2 , replace=True).info()"
   ]
  },
  {
   "cell_type": "code",
   "execution_count": null,
   "id": "580cd8a1",
   "metadata": {},
   "outputs": [],
   "source": []
  }
 ],
 "metadata": {
  "kernelspec": {
   "display_name": ".venv",
   "language": "python",
   "name": "python3"
  },
  "language_info": {
   "codemirror_mode": {
    "name": "ipython",
    "version": 3
   },
   "file_extension": ".py",
   "mimetype": "text/x-python",
   "name": "python",
   "nbconvert_exporter": "python",
   "pygments_lexer": "ipython3",
   "version": "3.13.5"
  }
 },
 "nbformat": 4,
 "nbformat_minor": 5
}
